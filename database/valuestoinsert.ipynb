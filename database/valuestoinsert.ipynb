{
 "cells": [
  {
   "cell_type": "code",
   "execution_count": 1,
   "metadata": {},
   "outputs": [],
   "source": [
    "import csv\n",
    "import pandas as pd"
   ]
  },
  {
   "cell_type": "code",
   "execution_count": 2,
   "metadata": {},
   "outputs": [],
   "source": [
    "data_path = 'csvs/movie_data_validated_0.csv'\n",
    "data = pd.read_csv(data_path)\n",
    "#data.head()"
   ]
  },
  {
   "cell_type": "code",
   "execution_count": 3,
   "metadata": {},
   "outputs": [
    {
     "data": {
      "text/html": [
       "<div>\n",
       "<style scoped>\n",
       "    .dataframe tbody tr th:only-of-type {\n",
       "        vertical-align: middle;\n",
       "    }\n",
       "\n",
       "    .dataframe tbody tr th {\n",
       "        vertical-align: top;\n",
       "    }\n",
       "\n",
       "    .dataframe thead th {\n",
       "        text-align: right;\n",
       "    }\n",
       "</style>\n",
       "<table border=\"1\" class=\"dataframe\">\n",
       "  <thead>\n",
       "    <tr style=\"text-align: right;\">\n",
       "      <th></th>\n",
       "      <th>movie_title</th>\n",
       "      <th>title_year</th>\n",
       "      <th>language</th>\n",
       "      <th>country</th>\n",
       "      <th>duration</th>\n",
       "      <th>content_rating</th>\n",
       "      <th>movie_imdb_link</th>\n",
       "      <th>director_name</th>\n",
       "      <th>imdb_score</th>\n",
       "      <th>num_voted_users</th>\n",
       "      <th>gross</th>\n",
       "    </tr>\n",
       "  </thead>\n",
       "  <tbody>\n",
       "    <tr>\n",
       "      <th>0</th>\n",
       "      <td>Avatar</td>\n",
       "      <td>2009</td>\n",
       "      <td>English</td>\n",
       "      <td>USA</td>\n",
       "      <td>178.0</td>\n",
       "      <td>PG-13</td>\n",
       "      <td>http://www.imdb.com/title/tt0499549/?ref_=fn_t...</td>\n",
       "      <td>James Cameron</td>\n",
       "      <td>7.9</td>\n",
       "      <td>886204</td>\n",
       "      <td>760505847.0</td>\n",
       "    </tr>\n",
       "    <tr>\n",
       "      <th>1</th>\n",
       "      <td>Pirates of the Caribbean: At World's End</td>\n",
       "      <td>2007</td>\n",
       "      <td>English</td>\n",
       "      <td>USA</td>\n",
       "      <td>169.0</td>\n",
       "      <td>PG-13</td>\n",
       "      <td>http://www.imdb.com/title/tt0449088/?ref_=fn_t...</td>\n",
       "      <td>Gore Verbinski</td>\n",
       "      <td>7.1</td>\n",
       "      <td>471220</td>\n",
       "      <td>309404152.0</td>\n",
       "    </tr>\n",
       "    <tr>\n",
       "      <th>2</th>\n",
       "      <td>Spectre</td>\n",
       "      <td>2015</td>\n",
       "      <td>English</td>\n",
       "      <td>UK</td>\n",
       "      <td>148.0</td>\n",
       "      <td>PG-13</td>\n",
       "      <td>http://www.imdb.com/title/tt2379713/?ref_=fn_t...</td>\n",
       "      <td>Sam Mendes</td>\n",
       "      <td>6.8</td>\n",
       "      <td>275868</td>\n",
       "      <td>200074175.0</td>\n",
       "    </tr>\n",
       "    <tr>\n",
       "      <th>3</th>\n",
       "      <td>The Dark Knight Rises</td>\n",
       "      <td>2012</td>\n",
       "      <td>English</td>\n",
       "      <td>USA</td>\n",
       "      <td>164.0</td>\n",
       "      <td>PG-13</td>\n",
       "      <td>http://www.imdb.com/title/tt1345836/?ref_=fn_t...</td>\n",
       "      <td>Christopher Nolan</td>\n",
       "      <td>8.5</td>\n",
       "      <td>1144337</td>\n",
       "      <td>448130642.0</td>\n",
       "    </tr>\n",
       "    <tr>\n",
       "      <th>4</th>\n",
       "      <td>John Carter</td>\n",
       "      <td>2012</td>\n",
       "      <td>English</td>\n",
       "      <td>USA</td>\n",
       "      <td>132.0</td>\n",
       "      <td>PG-13</td>\n",
       "      <td>http://www.imdb.com/title/tt0401729/?ref_=fn_t...</td>\n",
       "      <td>Andrew Stanton</td>\n",
       "      <td>6.6</td>\n",
       "      <td>212204</td>\n",
       "      <td>73058679.0</td>\n",
       "    </tr>\n",
       "  </tbody>\n",
       "</table>\n",
       "</div>"
      ],
      "text/plain": [
       "                                movie_title  title_year language country  \\\n",
       "0                                    Avatar        2009  English     USA   \n",
       "1  Pirates of the Caribbean: At World's End        2007  English     USA   \n",
       "2                                   Spectre        2015  English      UK   \n",
       "3                     The Dark Knight Rises        2012  English     USA   \n",
       "4                               John Carter        2012  English     USA   \n",
       "\n",
       "   duration content_rating                                    movie_imdb_link  \\\n",
       "0     178.0          PG-13  http://www.imdb.com/title/tt0499549/?ref_=fn_t...   \n",
       "1     169.0          PG-13  http://www.imdb.com/title/tt0449088/?ref_=fn_t...   \n",
       "2     148.0          PG-13  http://www.imdb.com/title/tt2379713/?ref_=fn_t...   \n",
       "3     164.0          PG-13  http://www.imdb.com/title/tt1345836/?ref_=fn_t...   \n",
       "4     132.0          PG-13  http://www.imdb.com/title/tt0401729/?ref_=fn_t...   \n",
       "\n",
       "       director_name  imdb_score  num_voted_users        gross  \n",
       "0      James Cameron         7.9           886204  760505847.0  \n",
       "1     Gore Verbinski         7.1           471220  309404152.0  \n",
       "2         Sam Mendes         6.8           275868  200074175.0  \n",
       "3  Christopher Nolan         8.5          1144337  448130642.0  \n",
       "4     Andrew Stanton         6.6           212204   73058679.0  "
      ]
     },
     "execution_count": 3,
     "metadata": {},
     "output_type": "execute_result"
    }
   ],
   "source": [
    "#movie\n",
    "insert_columns = ['movie_title', 'title_year', 'language', 'country', 'duration', 'content_rating', 'movie_imdb_link', 'director_name', 'imdb_score', 'num_voted_users','gross']\n",
    "movies_df = data[insert_columns]\n",
    "movies_df.head()"
   ]
  },
  {
   "cell_type": "code",
   "execution_count": 4,
   "metadata": {},
   "outputs": [],
   "source": [
    "movies_df.to_csv('csvs/movies.csv',index=False)"
   ]
  },
  {
   "cell_type": "code",
   "execution_count": 5,
   "metadata": {},
   "outputs": [],
   "source": [
    "#genres\n",
    "unique_genres = data['genres'].str.get_dummies(sep='|').columns.tolist()\n",
    "genres_df = pd.DataFrame(unique_genres, columns=['genres'])\n",
    "#print(unique_genres)\n",
    "genres_df.to_csv('csvs/genres.csv',index=False)"
   ]
  },
  {
   "cell_type": "code",
   "execution_count": 6,
   "metadata": {},
   "outputs": [
    {
     "name": "stderr",
     "output_type": "stream",
     "text": [
      "/var/folders/x2/t36r70sd4yg7f3bcqgnj4nrm0000gn/T/ipykernel_62342/2968210544.py:3: SettingWithCopyWarning: \n",
      "A value is trying to be set on a copy of a slice from a DataFrame.\n",
      "Try using .loc[row_indexer,col_indexer] = value instead\n",
      "\n",
      "See the caveats in the documentation: https://pandas.pydata.org/pandas-docs/stable/user_guide/indexing.html#returning-a-view-versus-a-copy\n",
      "  mg_df['genres'] = mg_df['genres'].str.split('|')\n"
     ]
    },
    {
     "data": {
      "text/html": [
       "<div>\n",
       "<style scoped>\n",
       "    .dataframe tbody tr th:only-of-type {\n",
       "        vertical-align: middle;\n",
       "    }\n",
       "\n",
       "    .dataframe tbody tr th {\n",
       "        vertical-align: top;\n",
       "    }\n",
       "\n",
       "    .dataframe thead th {\n",
       "        text-align: right;\n",
       "    }\n",
       "</style>\n",
       "<table border=\"1\" class=\"dataframe\">\n",
       "  <thead>\n",
       "    <tr style=\"text-align: right;\">\n",
       "      <th></th>\n",
       "      <th>movie_title</th>\n",
       "      <th>genres</th>\n",
       "    </tr>\n",
       "  </thead>\n",
       "  <tbody>\n",
       "    <tr>\n",
       "      <th>0</th>\n",
       "      <td>Avatar</td>\n",
       "      <td>Action</td>\n",
       "    </tr>\n",
       "    <tr>\n",
       "      <th>0</th>\n",
       "      <td>Avatar</td>\n",
       "      <td>Adventure</td>\n",
       "    </tr>\n",
       "    <tr>\n",
       "      <th>0</th>\n",
       "      <td>Avatar</td>\n",
       "      <td>Fantasy</td>\n",
       "    </tr>\n",
       "    <tr>\n",
       "      <th>0</th>\n",
       "      <td>Avatar</td>\n",
       "      <td>Sci-Fi</td>\n",
       "    </tr>\n",
       "    <tr>\n",
       "      <th>1</th>\n",
       "      <td>Pirates of the Caribbean: At World's End</td>\n",
       "      <td>Action</td>\n",
       "    </tr>\n",
       "    <tr>\n",
       "      <th>...</th>\n",
       "      <td>...</td>\n",
       "      <td>...</td>\n",
       "    </tr>\n",
       "    <tr>\n",
       "      <th>4541</th>\n",
       "      <td>Newlyweds</td>\n",
       "      <td>Drama</td>\n",
       "    </tr>\n",
       "    <tr>\n",
       "      <th>4542</th>\n",
       "      <td>Shanghai Calling</td>\n",
       "      <td>Comedy</td>\n",
       "    </tr>\n",
       "    <tr>\n",
       "      <th>4542</th>\n",
       "      <td>Shanghai Calling</td>\n",
       "      <td>Drama</td>\n",
       "    </tr>\n",
       "    <tr>\n",
       "      <th>4542</th>\n",
       "      <td>Shanghai Calling</td>\n",
       "      <td>Romance</td>\n",
       "    </tr>\n",
       "    <tr>\n",
       "      <th>4543</th>\n",
       "      <td>My Date with Drew</td>\n",
       "      <td>Documentary</td>\n",
       "    </tr>\n",
       "  </tbody>\n",
       "</table>\n",
       "<p>13195 rows × 2 columns</p>\n",
       "</div>"
      ],
      "text/plain": [
       "                                   movie_title       genres\n",
       "0                                       Avatar       Action\n",
       "0                                       Avatar    Adventure\n",
       "0                                       Avatar      Fantasy\n",
       "0                                       Avatar       Sci-Fi\n",
       "1     Pirates of the Caribbean: At World's End       Action\n",
       "...                                        ...          ...\n",
       "4541                                 Newlyweds        Drama\n",
       "4542                          Shanghai Calling       Comedy\n",
       "4542                          Shanghai Calling        Drama\n",
       "4542                          Shanghai Calling      Romance\n",
       "4543                         My Date with Drew  Documentary\n",
       "\n",
       "[13195 rows x 2 columns]"
      ]
     },
     "execution_count": 6,
     "metadata": {},
     "output_type": "execute_result"
    }
   ],
   "source": [
    "#movies_genres\n",
    "mg_df = data[['movie_title', 'genres']]\n",
    "mg_df['genres'] = mg_df['genres'].str.split('|')\n",
    "mg_df = mg_df.explode('genres')\n",
    "mg_df"
   ]
  },
  {
   "cell_type": "code",
   "execution_count": 7,
   "metadata": {},
   "outputs": [],
   "source": [
    "mg_df.to_csv('csvs/movie_genres.csv',index=False)"
   ]
  },
  {
   "cell_type": "code",
   "execution_count": 8,
   "metadata": {},
   "outputs": [],
   "source": [
    "#actor\n",
    "actor_df = data[['actors']]\n",
    "actor_df = actor_df['actors'].str.split('|').explode()\n",
    "#actor_df.head()\n",
    "actor_df = actor_df.drop_duplicates()\n",
    "actor_df.to_csv('csvs/actors.csv',index=False)"
   ]
  },
  {
   "cell_type": "code",
   "execution_count": 9,
   "metadata": {},
   "outputs": [
    {
     "name": "stderr",
     "output_type": "stream",
     "text": [
      "/var/folders/x2/t36r70sd4yg7f3bcqgnj4nrm0000gn/T/ipykernel_62342/3737530334.py:3: SettingWithCopyWarning: \n",
      "A value is trying to be set on a copy of a slice from a DataFrame.\n",
      "Try using .loc[row_indexer,col_indexer] = value instead\n",
      "\n",
      "See the caveats in the documentation: https://pandas.pydata.org/pandas-docs/stable/user_guide/indexing.html#returning-a-view-versus-a-copy\n",
      "  ma_df['actors'] = ma_df['actors'].str.split('|')\n"
     ]
    }
   ],
   "source": [
    "#movies_actors\n",
    "ma_df = data[['movie_title', 'actors']]\n",
    "ma_df['actors'] = ma_df['actors'].str.split('|')\n",
    "ma_df = ma_df.explode('actors')\n",
    "ma_df = ma_df.drop_duplicates()\n",
    "ma_df = ma_df.dropna()\n",
    "ma_df.to_csv('csvs/movie_actors.csv',index=False)"
   ]
  },
  {
   "cell_type": "code",
   "execution_count": 24,
   "metadata": {},
   "outputs": [],
   "source": []
  },
  {
   "cell_type": "code",
   "execution_count": 10,
   "metadata": {},
   "outputs": [
    {
     "data": {
      "text/plain": [
       "0              CCH Pounder\n",
       "0         Joel David Moore\n",
       "0                Wes Studi\n",
       "1              Johnny Depp\n",
       "1            Orlando Bloom\n",
       "               ...        \n",
       "4541    Caitlin FitzGerald\n",
       "4541       Daniella Pineda\n",
       "4543           John August\n",
       "4543      Brian Herzlinger\n",
       "4543              Jon Gunn\n",
       "Name: actors, Length: 5603, dtype: object"
      ]
     },
     "execution_count": 10,
     "metadata": {},
     "output_type": "execute_result"
    }
   ],
   "source": [
    "actor_df"
   ]
  },
  {
   "cell_type": "markdown",
   "metadata": {},
   "source": []
  }
 ],
 "metadata": {
  "kernelspec": {
   "display_name": "env",
   "language": "python",
   "name": "python3"
  },
  "language_info": {
   "codemirror_mode": {
    "name": "ipython",
    "version": 3
   },
   "file_extension": ".py",
   "mimetype": "text/x-python",
   "name": "python",
   "nbconvert_exporter": "python",
   "pygments_lexer": "ipython3",
   "version": "3.11.5"
  }
 },
 "nbformat": 4,
 "nbformat_minor": 2
}
